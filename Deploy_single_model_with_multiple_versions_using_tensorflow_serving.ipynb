{
  "nbformat": 4,
  "nbformat_minor": 0,
  "metadata": {
    "colab": {
      "name": "Deploy single model with multiple versions using tensorflow serving.ipynb",
      "provenance": [],
      "collapsed_sections": []
    },
    "kernelspec": {
      "name": "python3",
      "display_name": "Python 3"
    }
  },
  "cells": [
    {
      "cell_type": "markdown",
      "metadata": {
        "id": "X9lY4j7TNNSu",
        "colab_type": "text"
      },
      "source": [
        "## steps to deploy tensorflow model using tensorflow serving\n",
        "\n",
        "1. load library/ dependencies\n",
        "2. create the model\n",
        "3. save the model --> format must be like, folder name must be integer number like 0, 1, 2.... this interger number folder defines the version number of the model\n",
        "and based on version number tensorflow serving choose the model to serve the response\n",
        "save the model using , >>\n",
        "\n",
        "tf.keras.models.save_model(\n",
        "\n",
        "model_object,\n",
        "absolute_path_of the model,\n",
        "\n",
        "overwrite = True is you want to overwrite else false, (keep true),\n",
        "\n",
        "include_optimizer  = True >>>> where, Optimizers are the extended class, which include added information to train a specific model \n",
        "\n",
        "save_format = None ...>>Either 'tf' or 'h5', indicating whether to save the model to Tensorflow SavedModel or HDF5. Defaults to 'tf' in TF 2.X, and 'h5' in TF 1.X.\n",
        "\n",
        "options =  None ...>>Optional tf.saved_model.SaveOptions object that specifies options for saving to SavedModel.\n",
        ")\n",
        "\n",
        "4. Add TensorFlow Serving distribution URI as a package source\n",
        "\n",
        "!echo \"deb http://storage.googleapis.com/tensorflow-serving-apt stable tensorflow-model-server tensorflow-model-server-universal\" | tee /etc/apt/sources.list.d/tensorflow-serving.list && \\\n",
        "curl https://storage.googleapis.com/tensorflow-serving-apt/tensorflow-serving.release.pub.gpg | apt-key add -\n",
        "!apt update\n",
        "\n",
        "  5. install tensorflow-model-server\n",
        "  6.Start running tensorflow server by defining modelname, port number, and path of the model\n",
        "  os.environ[\"MODEL_DIR\"] = MODEL_DIR\n",
        "\n",
        "%%bash --bg \n",
        "nohup tensorflow_model_server \\\n",
        "  --rest_api_port=8501 \\\n",
        "  --model_name=fashion_model \\\n",
        "  --model_base_path=\"${MODEL_DIR}\" >server.log 2>&1\n",
        "\n",
        "  7. check wether server is on or not\n",
        "\n",
        "!tail server.log\n",
        "\n",
        "  8.create json api for prediciton\n",
        "\n",
        "import json\n",
        "data = json.dumps({\"signature_name\": \"serving_default\", \"instances\": test_images[0:3].tolist()})\n",
        "\n",
        "\n",
        "import requests\n",
        "headers = {\"content-type\": \"application/json\"}\n",
        "json_response = requests.post('http://localhost:8501/v1/models/fashion_model/versions/2:predict', data=data1, headers=headers)\n",
        "predictions = json.loads(json_response.text)['predictions']\n",
        "\n",
        "  9. create show funstion to show the predicted and actual output\n",
        "\n",
        "def show1(idx, title):\n",
        "  plt.figure()\n",
        "  plt.imshow(x_test[idx].reshape(28,28))\n",
        "  plt.axis('off')\n",
        "  plt.title('\\n\\n{}'.format(title), fontdict={'size': 16})\n",
        "\n",
        "import random\n",
        "rando = random.randint(0,len(x_test)-1)\n",
        "show(rando, 'An Example Image: {}'.format(class_names[y_test[rando]]))\n",
        "\n",
        "\n",
        "for i in range(0,3):\n",
        "  show(i, 'The model thought this was a {} (class {}), and it was actually a {} (class {})'.format(\n",
        "    class_names[np.argmax(predictions[i])], np.argmax(predictions[i]), class_names[test_labels[i]], test_labels[i]))\n",
        "\n",
        "    "
      ]
    },
    {
      "cell_type": "markdown",
      "metadata": {
        "id": "6JgE-IHQNRAl",
        "colab_type": "text"
      },
      "source": [
        "tensorflow serving uses higher version number as a default model for serving, but if you want to serve specific version instead of higher version you can specify in the url --> versions/version_number"
      ]
    },
    {
      "cell_type": "code",
      "metadata": {
        "id": "IJ7-TjowUQRG",
        "colab_type": "code",
        "colab": {}
      },
      "source": [
        "import tensorflow as tf\n",
        "from tensorflow import keras\n",
        "\n",
        "# Helper libraries\n",
        "import numpy as np\n",
        "import matplotlib.pyplot as plt\n",
        "import os"
      ],
      "execution_count": null,
      "outputs": []
    },
    {
      "cell_type": "code",
      "metadata": {
        "id": "yCdts7B4UP2J",
        "colab_type": "code",
        "colab": {
          "base_uri": "https://localhost:8080/",
          "height": 407
        },
        "outputId": "5b11f5e3-dc06-4b2d-8019-079b33281895"
      },
      "source": [
        "(x_train, y_train),(x_test, y_test) = keras.datasets.mnist.load_data()\n",
        "\n",
        "x_train = x_train.reshape(-1, 28*28)/255.0\n",
        "x_test = x_test.reshape(-1, 28*28) /255.0\n",
        "\n",
        "model1 = Sequential()\n",
        "model1.add(Dense(512, input_shape = (784,), activation='relu'))\n",
        "model1.add(Dense(10, activation='softmax'))\n",
        "\n",
        "model1.compile(optimizer='adam', loss = 'sparse_categorical_crossentropy',metrics = ['accuracy'])\n",
        "\n",
        "model1.fit(x_train, y_train, epochs = 10, validation_data=(x_test, y_test))\n",
        "\n",
        "loss, acc = model1.evaluate(x_test, y_test, verbose = 2)\n",
        "\n",
        "print('model accuarcy={:5.2f}'.format(acc*100))\n",
        "\n"
      ],
      "execution_count": null,
      "outputs": [
        {
          "output_type": "stream",
          "text": [
            "Epoch 1/10\n",
            "1875/1875 [==============================] - 8s 4ms/step - loss: 0.2014 - accuracy: 0.9410 - val_loss: 0.0915 - val_accuracy: 0.9706\n",
            "Epoch 2/10\n",
            "1875/1875 [==============================] - 8s 4ms/step - loss: 0.0808 - accuracy: 0.9755 - val_loss: 0.0746 - val_accuracy: 0.9768\n",
            "Epoch 3/10\n",
            "1875/1875 [==============================] - 8s 4ms/step - loss: 0.0516 - accuracy: 0.9841 - val_loss: 0.0612 - val_accuracy: 0.9817\n",
            "Epoch 4/10\n",
            "1875/1875 [==============================] - 8s 4ms/step - loss: 0.0367 - accuracy: 0.9883 - val_loss: 0.0720 - val_accuracy: 0.9791\n",
            "Epoch 5/10\n",
            "1875/1875 [==============================] - 8s 4ms/step - loss: 0.0278 - accuracy: 0.9912 - val_loss: 0.0640 - val_accuracy: 0.9821\n",
            "Epoch 6/10\n",
            "1875/1875 [==============================] - 8s 4ms/step - loss: 0.0209 - accuracy: 0.9933 - val_loss: 0.0610 - val_accuracy: 0.9813\n",
            "Epoch 7/10\n",
            "1875/1875 [==============================] - 8s 4ms/step - loss: 0.0169 - accuracy: 0.9942 - val_loss: 0.0687 - val_accuracy: 0.9808\n",
            "Epoch 8/10\n",
            "1875/1875 [==============================] - 8s 4ms/step - loss: 0.0151 - accuracy: 0.9949 - val_loss: 0.0888 - val_accuracy: 0.9777\n",
            "Epoch 9/10\n",
            "1875/1875 [==============================] - 7s 4ms/step - loss: 0.0126 - accuracy: 0.9958 - val_loss: 0.0860 - val_accuracy: 0.9794\n",
            "Epoch 10/10\n",
            "1875/1875 [==============================] - 7s 4ms/step - loss: 0.0102 - accuracy: 0.9967 - val_loss: 0.0952 - val_accuracy: 0.9784\n",
            "313/313 - 1s - loss: 0.0952 - accuracy: 0.9784\n",
            "model accuarcy=97.84\n"
          ],
          "name": "stdout"
        }
      ]
    },
    {
      "cell_type": "code",
      "metadata": {
        "id": "NOhNGEfcUbyr",
        "colab_type": "code",
        "colab": {
          "base_uri": "https://localhost:8080/",
          "height": 176
        },
        "outputId": "ab3c9db0-2856-433c-ca01-a68767c7da8f"
      },
      "source": [
        "# Fetch the Keras session and save the model\n",
        "# The signature definition is defined by the input and output tensors,\n",
        "# and stored with the default serving key\n",
        "import tempfile\n",
        "\n",
        "# MODEL_DIR = tempfile.gettempdir()\n",
        "MODEL_DIR = '/home'\n",
        "version = 1\n",
        "export_path = os.path.join(MODEL_DIR, str(version))\n",
        "print('export_path = {}\\n'.format(export_path))\n",
        "\n",
        "tf.keras.models.save_model(\n",
        "    model1,\n",
        "    export_path,\n",
        "    overwrite=True,\n",
        "    include_optimizer=True,\n",
        "    save_format=None,\n",
        "    signatures=None,\n",
        "    options=None\n",
        ")\n",
        "\n",
        "print('\\nSaved model:')\n",
        "!ls -l {export_path}"
      ],
      "execution_count": null,
      "outputs": [
        {
          "output_type": "stream",
          "text": [
            "export_path = /home/1\n",
            "\n",
            "INFO:tensorflow:Assets written to: /home/1/assets\n",
            "\n",
            "Saved model:\n",
            "total 76\n",
            "drwxr-xr-x 2 root root  4096 Sep 11 08:44 assets\n",
            "-rw-r--r-- 1 root root 67211 Sep 11 08:44 saved_model.pb\n",
            "drwxr-xr-x 2 root root  4096 Sep 11 08:44 variables\n"
          ],
          "name": "stdout"
        }
      ]
    },
    {
      "cell_type": "code",
      "metadata": {
        "id": "3wvWWUVQUfwc",
        "colab_type": "code",
        "colab": {
          "base_uri": "https://localhost:8080/",
          "height": 461
        },
        "outputId": "9cd7a7ee-5796-40e0-89db-4a12e077fb67"
      },
      "source": [
        "# creating and saving model2\n",
        "# here i am creating same model for model2 and model1, just changing its object name\n",
        "\n",
        "model2 = Sequential()\n",
        "model2.add(Dense(512, input_shape= (784,), activation='relu'))\n",
        "model2.add(Dense(10, activation='softmax'))\n",
        "\n",
        "model2.compile(optimizer = 'adam', loss = 'sparse_categorical_crossentropy',metrics= ['accuracy'])\n",
        "\n",
        "model2.fit(x_train, y_train, validation_data = (x_test, y_test),epochs = 10)\n",
        "\n",
        "# saving the model2\n",
        "version = 2\n",
        "export_path2 = os.path.join(MODEL_DIR,str(version) )\n",
        "\n",
        "tf.keras.models.save_model(\n",
        "    model2,\n",
        "    export_path2,\n",
        "    overwrite = True,\n",
        "    include_optimizer = True,\n",
        "    save_format = None,\n",
        "    signatures = None,\n",
        "    options = None\n",
        "\n",
        ")\n",
        "\n",
        "!ls -l {export_path2}"
      ],
      "execution_count": null,
      "outputs": [
        {
          "output_type": "stream",
          "text": [
            "Epoch 1/10\n",
            "1875/1875 [==============================] - 8s 4ms/step - loss: 0.2038 - accuracy: 0.9406 - val_loss: 0.1013 - val_accuracy: 0.9682\n",
            "Epoch 2/10\n",
            "1875/1875 [==============================] - 8s 4ms/step - loss: 0.0818 - accuracy: 0.9760 - val_loss: 0.0758 - val_accuracy: 0.9753\n",
            "Epoch 3/10\n",
            "1875/1875 [==============================] - 8s 4ms/step - loss: 0.0510 - accuracy: 0.9841 - val_loss: 0.0664 - val_accuracy: 0.9790\n",
            "Epoch 4/10\n",
            "1875/1875 [==============================] - 8s 4ms/step - loss: 0.0378 - accuracy: 0.9878 - val_loss: 0.0732 - val_accuracy: 0.9772\n",
            "Epoch 5/10\n",
            "1875/1875 [==============================] - 9s 5ms/step - loss: 0.0274 - accuracy: 0.9912 - val_loss: 0.0852 - val_accuracy: 0.9747\n",
            "Epoch 6/10\n",
            "1875/1875 [==============================] - 8s 4ms/step - loss: 0.0211 - accuracy: 0.9930 - val_loss: 0.0715 - val_accuracy: 0.9793\n",
            "Epoch 7/10\n",
            "1875/1875 [==============================] - 8s 4ms/step - loss: 0.0167 - accuracy: 0.9945 - val_loss: 0.0617 - val_accuracy: 0.9831\n",
            "Epoch 8/10\n",
            "1875/1875 [==============================] - 8s 4ms/step - loss: 0.0127 - accuracy: 0.9959 - val_loss: 0.0695 - val_accuracy: 0.9806\n",
            "Epoch 9/10\n",
            "1875/1875 [==============================] - 8s 4ms/step - loss: 0.0134 - accuracy: 0.9954 - val_loss: 0.0716 - val_accuracy: 0.9814\n",
            "Epoch 10/10\n",
            "1875/1875 [==============================] - 8s 4ms/step - loss: 0.0094 - accuracy: 0.9970 - val_loss: 0.0883 - val_accuracy: 0.9786\n",
            "INFO:tensorflow:Assets written to: /home/2/assets\n",
            "total 76\n",
            "drwxr-xr-x 2 root root  4096 Sep 11 08:45 assets\n",
            "-rw-r--r-- 1 root root 67211 Sep 11 08:45 saved_model.pb\n",
            "drwxr-xr-x 2 root root  4096 Sep 11 08:45 variables\n"
          ],
          "name": "stdout"
        }
      ]
    },
    {
      "cell_type": "code",
      "metadata": {
        "id": "-t6nh65yUuk-",
        "colab_type": "code",
        "colab": {
          "base_uri": "https://localhost:8080/",
          "height": 390
        },
        "outputId": "a4c13ee4-7e77-42ea-9d56-245827cf8909"
      },
      "source": [
        "!echo \"deb http://storage.googleapis.com/tensorflow-serving-apt stable tensorflow-model-server tensorflow-model-server-universal\" | tee /etc/apt/sources.list.d/tensorflow-serving.list && \\\n",
        "curl https://storage.googleapis.com/tensorflow-serving-apt/tensorflow-serving.release.pub.gpg | apt-key add -\n",
        "!apt update"
      ],
      "execution_count": null,
      "outputs": [
        {
          "output_type": "stream",
          "text": [
            "deb http://storage.googleapis.com/tensorflow-serving-apt stable tensorflow-model-server tensorflow-model-server-universal\n",
            "  % Total    % Received % Xferd  Average Speed   Time    Time     Time  Current\n",
            "                                 Dload  Upload   Total   Spent    Left  Speed\n",
            "\r  0     0    0     0    0     0      0      0 --:--:-- --:--:-- --:--:--     0\r100  2943  100  2943    0     0   102k      0 --:--:-- --:--:-- --:--:--  102k\n",
            "OK\n",
            "Hit:1 http://storage.googleapis.com/tensorflow-serving-apt stable InRelease\n",
            "Ign:2 https://developer.download.nvidia.com/compute/cuda/repos/ubuntu1804/x86_64  InRelease\n",
            "Hit:3 https://cloud.r-project.org/bin/linux/ubuntu bionic-cran35/ InRelease\n",
            "Ign:4 https://developer.download.nvidia.com/compute/machine-learning/repos/ubuntu1804/x86_64  InRelease\n",
            "Hit:5 http://security.ubuntu.com/ubuntu bionic-security InRelease\n",
            "Hit:6 http://archive.ubuntu.com/ubuntu bionic InRelease\n",
            "Hit:7 https://developer.download.nvidia.com/compute/cuda/repos/ubuntu1804/x86_64  Release\n",
            "Hit:8 https://developer.download.nvidia.com/compute/machine-learning/repos/ubuntu1804/x86_64  Release\n",
            "Hit:9 http://archive.ubuntu.com/ubuntu bionic-updates InRelease\n",
            "Hit:10 http://ppa.launchpad.net/graphics-drivers/ppa/ubuntu bionic InRelease\n",
            "Hit:11 http://archive.ubuntu.com/ubuntu bionic-backports InRelease\n",
            "Hit:12 http://ppa.launchpad.net/marutter/c2d4u3.5/ubuntu bionic InRelease\n",
            "Reading package lists... Done\n",
            "Building dependency tree       \n",
            "Reading state information... Done\n",
            "77 packages can be upgraded. Run 'apt list --upgradable' to see them.\n"
          ],
          "name": "stdout"
        }
      ]
    },
    {
      "cell_type": "code",
      "metadata": {
        "id": "aNKXxvyQUxEy",
        "colab_type": "code",
        "colab": {
          "base_uri": "https://localhost:8080/",
          "height": 158
        },
        "outputId": "26cf6ab8-fd72-4456-d88b-170e215ea296"
      },
      "source": [
        "!apt-get install tensorflow-model-server"
      ],
      "execution_count": null,
      "outputs": [
        {
          "output_type": "stream",
          "text": [
            "Reading package lists... Done\n",
            "Building dependency tree       \n",
            "Reading state information... Done\n",
            "tensorflow-model-server is already the newest version (2.3.0).\n",
            "The following package was automatically installed and is no longer required:\n",
            "  libnvidia-common-440\n",
            "Use 'apt autoremove' to remove it.\n",
            "0 upgraded, 0 newly installed, 0 to remove and 77 not upgraded.\n"
          ],
          "name": "stdout"
        }
      ]
    },
    {
      "cell_type": "code",
      "metadata": {
        "id": "oB66_ZStVGJ0",
        "colab_type": "code",
        "colab": {
          "base_uri": "https://localhost:8080/",
          "height": 301
        },
        "outputId": "e61fac48-9d94-4287-dd42-6cbbbefc173f"
      },
      "source": [
        "def show(idx, title):\n",
        "  plt.figure()\n",
        "  plt.imshow(x_test[idx].reshape(28,28))\n",
        "  plt.axis('off')\n",
        "  plt.title('\\n\\n{}'.format(title), fontdict={'size': 16})\n",
        "\n",
        "import random\n",
        "rando = random.randint(0,len(x_test)-1)\n",
        "show(rando, 'An Example Image: {}'.format(class_names[y_test[rando]]))"
      ],
      "execution_count": null,
      "outputs": [
        {
          "output_type": "display_data",
          "data": {
            "image/png": "[encoded data removed]",
            "text/plain": [
              "<Figure size 432x288 with 1 Axes>"
            ]
          },
          "metadata": {
            "tags": [],
            "needs_background": "light"
          }
        }
      ]
    },
    {
      "cell_type": "code",
      "metadata": {
        "id": "yy3XsBpFUzD5",
        "colab_type": "code",
        "colab": {
          "base_uri": "https://localhost:8080/",
          "height": 34
        },
        "outputId": "a0d9538a-46fa-4d55-c2cc-c2ab5c184394"
      },
      "source": [
        "%%bash --bg \n",
        "nohup tensorflow_model_server \\\n",
        "  --rest_api_port=8501 \\\n",
        "  --model_name=single_multi_versions \\\n",
        "  --model_base_path=\"${MODEL_DIR}\" >server.log 2>&1\n"
      ],
      "execution_count": null,
      "outputs": [
        {
          "output_type": "stream",
          "text": [
            "Starting job # 2 in a separate thread.\n"
          ],
          "name": "stdout"
        }
      ]
    },
    {
      "cell_type": "code",
      "metadata": {
        "id": "4wCsT95IU3kd",
        "colab_type": "code",
        "colab": {
          "base_uri": "https://localhost:8080/",
          "height": 34
        },
        "outputId": "9e8ea43b-64e5-4e94-8915-0f75ce24a37a"
      },
      "source": [
        "import json\n",
        "data1 = json.dumps({\"signature_name\": \"serving_default\", \"instances\": x_test[0:3].tolist()})\n",
        "print('Data: {} ... {}'.format(data[:50], data[len(data)-52:]))"
      ],
      "execution_count": null,
      "outputs": [
        {
          "output_type": "stream",
          "text": [
            "Data: {\"signature_name\": \"serving_default\", \"instances\": ...  0.0, 0.0, 0.0, 0.0, 0.0, 0.0, 0.0, 0.0, 0.0, 0.0]]}\n"
          ],
          "name": "stdout"
        }
      ]
    },
    {
      "cell_type": "code",
      "metadata": {
        "id": "3pyo3JyfU7un",
        "colab_type": "code",
        "colab": {
          "base_uri": "https://localhost:8080/",
          "height": 318
        },
        "outputId": "40ed711d-6367-4353-80d0-6ae55c3a1550"
      },
      "source": [
        "!pip install -q requests\n",
        "\n",
        "import requests\n",
        "headers = {\"content-type\": \"application/json\"}\n",
        "json_response = requests.post('http://localhost:8501/v1/models/single_multi_versions:predict', data=data1, headers=headers)\n",
        "predictions = json.loads(json_response.text)['predictions']\n",
        "# print(json.loads(json_response.text))\n",
        "\n",
        "print(json_response)\n",
        "show(0, 'The model thought this was a {} (class {}), and it was actually a {} (class {})'.format(\n",
        "  class_names[np.argmax(predictions[0])], np.argmax(predictions[0]), class_names[y_test[0]], y_test[0]))"
      ],
      "execution_count": null,
      "outputs": [
        {
          "output_type": "stream",
          "text": [
            "<Response [200]>\n"
          ],
          "name": "stdout"
        },
        {
          "output_type": "display_data",
          "data": {
            "image/png": "[encoded data removed]",
            "text/plain": [
              "<Figure size 432x288 with 1 Axes>"
            ]
          },
          "metadata": {
            "tags": [],
            "needs_background": "light"
          }
        }
      ]
    }
  ]
}